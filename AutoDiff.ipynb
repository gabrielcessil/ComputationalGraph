{
  "nbformat": 4,
  "nbformat_minor": 0,
  "metadata": {
    "colab": {
      "provenance": [],
      "authorship_tag": "ABX9TyOXcqOH51drvWCxJXSDH4p8",
      "include_colab_link": true
    },
    "kernelspec": {
      "name": "python3",
      "display_name": "Python 3"
    },
    "language_info": {
      "name": "python"
    }
  },
  "cells": [
    {
      "cell_type": "markdown",
      "metadata": {
        "id": "view-in-github",
        "colab_type": "text"
      },
      "source": [
        "<a href=\"https://colab.research.google.com/github/gabrielcessil/ComputationalGraph/blob/main/AutoDiff.ipynb\" target=\"_parent\"><img src=\"https://colab.research.google.com/assets/colab-badge.svg\" alt=\"Open In Colab\"/></a>"
      ]
    },
    {
      "cell_type": "markdown",
      "source": [
        "# **Project Overview**\n",
        "\n",
        "### In modern numerical computing and machine learning, automatic differentiation (AutoDiff) plays a crucial role in efficiently computing gradients for optimization problems. This project implements a computational graph-based automatic differentiation system, where mathematical expressions are represented as directed graphs. Each node in the graph corresponds to an operation (e.g., addition, multiplication, sine, power), while edges capture dependencies between variables.\n",
        "\n",
        "# **Project Features**\n",
        "\n",
        "## This project provides:\n",
        "\n",
        "### - A class-based implementation of a computational graph, allowing users to construct expressions dynamically.\n",
        "### - Support for common mathematical operations (addition, multiplication, exponentiation, trigonometric functions).\n",
        "### - Graph-based differentiation, enabling efficient computation of gradients via backpropagation.\n",
        "### - A structured visualization of the computational graph, helping users understand function composition.\n",
        "\n",
        "\n",
        "\n",
        "## **Unfornutelly, the current state of the code still do not support matrices.**\n",
        "## **Feel free to add examples and use it as a didactic source**\n"
      ],
      "metadata": {
        "id": "NlXU04ZmfEMP"
      }
    },
    {
      "cell_type": "code",
      "execution_count": 491,
      "metadata": {
        "id": "ebyUYgFvbwCU"
      },
      "outputs": [],
      "source": [
        "import numpy as np\n",
        "\n",
        "class AutoDiff_CompGraph:\n",
        "  def __init__(self):\n",
        "    self.expression = {}\n",
        "    self.derivatives = {}\n",
        "\n",
        "    self.var_counter = 0\n",
        "    self.signal = []\n",
        "\n",
        "  def forward_result(self): return self.signal[-1]\n",
        "  def get_derivatives(self):\n",
        "    output_node = next(reversed(self.derivatives))\n",
        "\n",
        "    # Initialize adjoints for all nodes as 0\n",
        "    adjoints = {node: 0 for node in self.derivatives}\n",
        "\n",
        "    # Set the adjoint of the output node to 1\n",
        "    adjoints[output_node] = 1\n",
        "\n",
        "    # Process nodes in reverse order (starting from the output node)\n",
        "    for main_key in reversed(self.derivatives):\n",
        "        # Current adjoint for main_key\n",
        "        main_adj = adjoints[main_key]\n",
        "\n",
        "        # Propagate adjoint backward to each dependency (sub_key) based on partial derivative\n",
        "        for sub_key, partial_deriv in self.derivatives[main_key].items():\n",
        "            # Accumulate the adjoint for sub_key\n",
        "            adjoints[sub_key] += main_adj * partial_deriv\n",
        "\n",
        "    return adjoints\n",
        "\n",
        "\n",
        "\n",
        "  def add_to_graph(self, result_var, param_list, name):\n",
        "\n",
        "      self.expression[result_var[\"id\"]] = {\"name\": name, \"result\": result_var, \"params\": []}\n",
        "      for param in param_list:\n",
        "        self.expression[result_var[\"id\"]][\"params\"].append(param[\"id\"])\n",
        "\n",
        "  def create_variable(self, a):\n",
        "      var_id = f\"var{self.var_counter}\"\n",
        "      self.var_counter += 1\n",
        "      self.signal.append(a)\n",
        "      return {\"value\": a, \"id\": var_id}\n",
        "\n",
        "  def verify_instance(self, a):\n",
        "     if isinstance(a, dict) and \"value\" in a and \"id\" in a: return a #return if already a variable\n",
        "     else: return self.create_variable(a)  # Otherwise, create a new variable\n",
        "\n",
        "  def print_computation_graph_tree(self):\n",
        "    \"\"\"Prints the computation graph as a vertical tree structure with variable IDs.\"\"\"\n",
        "\n",
        "    def print_tree(node, prefix=\"\"):\n",
        "        \"\"\"Recursive function to display the computation graph in a tree format with variable IDs.\"\"\"\n",
        "        details = self.expression[node]\n",
        "        op_name = details[\"name\"].upper()  # Make operation names uppercase for readability\n",
        "        result_value = details[\"result\"][\"value\"]\n",
        "        result_id = details[\"result\"][\"id\"]\n",
        "        params = details[\"params\"]\n",
        "\n",
        "        # Print current operation with ID, name, and result value\n",
        "        print(f\"{prefix}🔗 {result_id}: {op_name}\")\n",
        "\n",
        "        # Print children (dependencies) with indentation\n",
        "        for i, param in enumerate(params):\n",
        "            connector = \"└──\" if i == len(params) - 1 else \"├──\"\n",
        "            print_tree(param, prefix + \"   \" + connector)\n",
        "\n",
        "    # Find the output node (last operation in expression)\n",
        "    output_node = next(reversed(self.expression), None)\n",
        "\n",
        "    if not output_node:\n",
        "        print(\"Computation Graph is empty.\")\n",
        "        return\n",
        "\n",
        "    print(\"\\nComputation Graph Tree:\\n\")\n",
        "    print_tree(output_node)\n",
        "\n",
        "\n",
        "  # SUPPORTED OPERATIONS FOR EQUATION BUILDING:\n",
        "\n",
        "  def scalar(self, a) :\n",
        "    a = self.verify_instance(a)\n",
        "    self.derivatives[a[\"id\"]] = {}\n",
        "    self.add_to_graph(a,[],\"scal\")\n",
        "\n",
        "    return a\n",
        "\n",
        "  def pow(self,a,b):\n",
        "    a_ = self.verify_instance(a)\n",
        "    b_ = self.verify_instance(b)\n",
        "    result = a_[\"value\"]**b_[\"value\"]\n",
        "    result = self.create_variable(result)\n",
        "    self.add_to_graph(result,[a_,b_],\"pow\")\n",
        "\n",
        "    der_a = b_[\"value\"]*a_[\"value\"]**(b_[\"value\"]-1)\n",
        "    der_b = a_[\"value\"]**b_[\"value\"]*np.log(a_[\"value\"])\n",
        "    self.derivatives[result[\"id\"]] = {a_[\"id\"]:der_a, b_[\"id\"]:der_b}\n",
        "\n",
        "    return result\n",
        "\n",
        "  def multiply(self,a,b):\n",
        "    a_ = self.verify_instance(a)\n",
        "    b_ = self.verify_instance(b)\n",
        "    result = a_[\"value\"]*b_[\"value\"]\n",
        "    result = self.create_variable(result)\n",
        "    self.add_to_graph(result,[a_,b_ ],\"mult\")\n",
        "\n",
        "    der_a = b_[\"value\"]\n",
        "    der_b = a_[\"value\"]\n",
        "    self.derivatives[result[\"id\"]] = {a_[\"id\"]:der_a, b_[\"id\"]:der_b}\n",
        "    return result\n",
        "\n",
        "  def divide(self,a,b):\n",
        "    a_ = self.verify_instance(a)\n",
        "    b_ = self.verify_instance(b)\n",
        "    result = a_[\"value\"]/b_[\"value\"]\n",
        "    result = self.create_variable(result)\n",
        "    self.add_to_graph(result,[a_,b_],\"div\")\n",
        "\n",
        "    der_a = 1/b_[\"value\"]\n",
        "    der_b = -a_[\"value\"]/(b_[\"value\"]**2)\n",
        "    self.derivatives[result[\"id\"]] = {a_[\"id\"]:der_a, b_[\"id\"]:der_b}\n",
        "\n",
        "    return result\n",
        "\n",
        "  def add(self,a,b):\n",
        "    a_ = self.verify_instance(a)\n",
        "    b_ = self.verify_instance(b)\n",
        "    result = a_[\"value\"]+b_[\"value\"]\n",
        "    result = self.create_variable(result)\n",
        "    self.add_to_graph(result,[a_,b_],\"add\")\n",
        "\n",
        "    der_a = 1\n",
        "    der_b = 1\n",
        "    self.derivatives[result[\"id\"]] = {a_[\"id\"]:der_a, b_[\"id\"]:der_b}\n",
        "\n",
        "    return result\n",
        "\n",
        "  def sub(self,a,b):\n",
        "    a_ = self.verify_instance(a)\n",
        "    b_ = self.verify_instance(b)\n",
        "    result = a_[\"value\"]-b_[\"value\"]\n",
        "    result = self.create_variable(result)\n",
        "    self.add_to_graph(result,[a_,b_],\"sub\")\n",
        "\n",
        "    der_a = 1\n",
        "    der_b = -1\n",
        "    self.derivatives[result[\"id\"]] = {a_[\"id\"]:der_a, b_[\"id\"]:der_b}\n",
        "\n",
        "    return result\n",
        "\n",
        "  def sin(self,a):\n",
        "    a_ = self.verify_instance(a)\n",
        "    result = np.sin(a_[\"value\"])\n",
        "    result = self.create_variable(result)\n",
        "    self.add_to_graph(result,[a_],\"sin\")\n",
        "\n",
        "    der_a = np.cos(a_[\"value\"])\n",
        "    self.derivatives[result[\"id\"]] = {a_[\"id\"]:der_a}\n",
        "\n",
        "    return result\n",
        "\n",
        "  def cos(self,a):\n",
        "    a_ = self.verify_instance(a)\n",
        "    result = np.cos(a_[\"value\"])\n",
        "    result = self.create_variable(result)\n",
        "    self.add_to_graph(result,[a_],\"cos\")\n",
        "\n",
        "    der_a = - np.sin(a_[\"value\"])\n",
        "    self.derivatives[result[\"id\"]] = {a_[\"id\"]:der_a}\n",
        "\n",
        "    return result\n"
      ]
    },
    {
      "cell_type": "markdown",
      "source": [
        "# **Example**\n",
        "\n",
        "# Let's define the following example of $f(x,y,z)$\n",
        "\n",
        "### $f(x,y,z) = (xy + y^{sin(z)})xy$\n",
        "\n",
        "# Where the partial derivatives are analycally defined as:\n",
        "\n",
        "### $\\frac{df}{dx}=y(2xy+y^{sin(z)})$\n",
        "\n",
        "### $\\frac{df}{dy}=x(2xy+sin(z)y^{sin(z)}+y^{sin(z)})$\n",
        "\n",
        "### $\\frac{df}{dz}=xln(y)cos(z)y^{sin(z)+1}$\n",
        "\n",
        "With these analytical forms we can verify the numerical results of the computational graph."
      ],
      "metadata": {
        "id": "rLz1NxCdTGzU"
      }
    },
    {
      "cell_type": "code",
      "source": [
        "x = 1\n",
        "y = 3\n",
        "z = 0.5\n",
        "\n",
        "f = (x*y + y**(np.sin(z)))*x*y\n",
        "\n",
        "d_fx = y*(2*x*y+y**(np.sin(z)))\n",
        "\n",
        "d_fy = x*(2*x*y+np.sin(z)*y**(np.sin(z))+y**(np.sin(z)))\n",
        "\n",
        "d_fz = x*np.log(y)*np.cos(z)*y**(np.sin(z)+1)"
      ],
      "metadata": {
        "id": "_jJCJbidqITT"
      },
      "execution_count": 492,
      "outputs": []
    },
    {
      "cell_type": "code",
      "source": [
        "def print_results(x, y, z, f, d_fx, d_fy, d_fz):\n",
        "    \"\"\"Prints the function and its partial derivatives in a clear format.\"\"\"\n",
        "\n",
        "    print(\"Function and Partial Derivatives:\")\n",
        "    print(\"-\" * 40)  # Separator line\n",
        "\n",
        "    print(f\"Given:\")\n",
        "    print(f\"  x = {x}\")\n",
        "    print(f\"  y = {y}\")\n",
        "    print(f\"  z = {z}\")\n",
        "    print(\"-\" * 40)\n",
        "\n",
        "    print(f\"Function: f = (x*y + y**(sin(z)))*x*y\") # Use sin() for clarity\n",
        "    print(f\"          f = {f}\")  # Print the calculated value of f\n",
        "    print(\"-\" * 40)\n",
        "\n",
        "    print(\"Partial Derivatives:\")\n",
        "    print(f\"  df/dx = y*(2*x*y + y**(sin(z)))\") # Use sin()\n",
        "    print(f\"        = {d_fx}\") # Print the value\n",
        "    print(f\"  df/dy = x*(2*x*y + sin(z)*y**(sin(z)) + y**(sin(z)))\") # Use sin()\n",
        "    print(f\"        = {d_fy}\") # Print the value\n",
        "    print(f\"  df/dz = x*log(y)*cos(z)*y**(sin(z)+1)\") # Use sin(), log(), cos()\n",
        "    print(f\"        = {d_fz}\") # Print the value\n",
        "    print(\"-\" * 40)\n"
      ],
      "metadata": {
        "id": "o_jUBjp92cw1"
      },
      "execution_count": 493,
      "outputs": []
    },
    {
      "cell_type": "code",
      "source": [
        "print_results(x, y, z, f, d_fx, d_fy, d_fz)"
      ],
      "metadata": {
        "colab": {
          "base_uri": "https://localhost:8080/"
        },
        "id": "GBvD9W092ES1",
        "outputId": "1941878d-22e6-4041-8815-31546e8a3e77"
      },
      "execution_count": 494,
      "outputs": [
        {
          "output_type": "stream",
          "name": "stdout",
          "text": [
            "Function and Partial Derivatives:\n",
            "----------------------------------------\n",
            "Given:\n",
            "  x = 1\n",
            "  y = 3\n",
            "  z = 0.5\n",
            "----------------------------------------\n",
            "Function: f = (x*y + y**(sin(z)))*x*y\n",
            "          f = 14.080019381708262\n",
            "----------------------------------------\n",
            "Partial Derivatives:\n",
            "  df/dx = y*(2*x*y + y**(sin(z)))\n",
            "        = 23.08001938170826\n",
            "  df/dy = x*(2*x*y + sin(z)*y**(sin(z)) + y**(sin(z)))\n",
            "        = 8.505170136634511\n",
            "  df/dz = x*log(y)*cos(z)*y**(sin(z)+1)\n",
            "        = 4.897763459363576\n",
            "----------------------------------------\n"
          ]
        }
      ]
    },
    {
      "cell_type": "markdown",
      "source": [
        "# **Using the computational graph**\n",
        "\n",
        "### Here we rebuild $f(x,y,z)$ using the computational graph object:"
      ],
      "metadata": {
        "id": "-PzRWpnxgQ0R"
      }
    },
    {
      "cell_type": "code",
      "source": [
        "# Arbitraty Example with the computational graph\n",
        "def Example_FUNC(x, y, z):\n",
        "    # COmputation Graph object\n",
        "    ad = AutoDiff_CompGraph()\n",
        "\n",
        "    # Scalars with the given valuesreturn a\n",
        "    var_x = ad.scalar(x)\n",
        "    print(\"x is assigned to \", var_x[\"id\"], \"\\n\")\n",
        "    var_y = ad.scalar(y)\n",
        "    print(\"y is assigned to \", var_y[\"id\"], \"\\n\")\n",
        "    var_z = ad.scalar(z)\n",
        "    print(\"z is assigned to \", var_z[\"id\"], \"\\n\")\n",
        "\n",
        "    # Build the equation sequentially\n",
        "    op1 = ad.multiply(var_x,var_y)\n",
        "    print(\"Op1 is assinged to \", op1[\"id\"], \"\\n\")\n",
        "\n",
        "    op2 = ad.sin(var_z)\n",
        "    print(\"Op2 is assinged to \", op2[\"id\"], \"\\n\")\n",
        "\n",
        "    op3 = ad.pow(var_y,op2)\n",
        "    print(\"Op3 is assinged to \", op3[\"id\"], \"\\n\")\n",
        "\n",
        "    op4 = ad.add(op1, op3)\n",
        "    print(\"Op4 is assinged to \", op4[\"id\"], \"\\n\")\n",
        "\n",
        "    result = ad.multiply(op4, op1)\n",
        "    print(\"Result is assinged to \", result[\"id\"], \"\\n\\n\")\n",
        "\n",
        "    return ad"
      ],
      "metadata": {
        "id": "KbHGhxD9_rA6"
      },
      "execution_count": 495,
      "outputs": []
    },
    {
      "cell_type": "code",
      "source": [
        "# Assign numeric values to the example function\n",
        "compGrap = Example_FUNC(x,y,z)"
      ],
      "metadata": {
        "colab": {
          "base_uri": "https://localhost:8080/"
        },
        "id": "7FB5fYIxPKom",
        "outputId": "2ee9c182-2a58-4d07-f736-83f3ce9263fa"
      },
      "execution_count": 496,
      "outputs": [
        {
          "output_type": "stream",
          "name": "stdout",
          "text": [
            "x is assigned to  var0 \n",
            "\n",
            "y is assigned to  var1 \n",
            "\n",
            "z is assigned to  var2 \n",
            "\n",
            "Op1 is assinged to  var3 \n",
            "\n",
            "Op2 is assinged to  var4 \n",
            "\n",
            "Op3 is assinged to  var5 \n",
            "\n",
            "Op4 is assinged to  var6 \n",
            "\n",
            "Result is assinged to  var7 \n",
            "\n",
            "\n"
          ]
        }
      ]
    },
    {
      "cell_type": "code",
      "source": [
        "# Get the derivatives,\n",
        "derivatives = compGrap.get_derivatives()"
      ],
      "metadata": {
        "id": "kBtUMwLdAiTd"
      },
      "execution_count": 497,
      "outputs": []
    },
    {
      "cell_type": "code",
      "source": [
        "f = compGrap.forward_result()\n",
        "auto_dfx = derivatives[\"var0\"]\n",
        "auto_dfy = derivatives[\"var1\"]\n",
        "auto_dfz = derivatives[\"var2\"]\n",
        "print_results(x, y, z, f, auto_dfx, auto_dfy, auto_dfz)"
      ],
      "metadata": {
        "colab": {
          "base_uri": "https://localhost:8080/"
        },
        "id": "wsQ9vwusqyrn",
        "outputId": "400ee889-eb91-4685-c08f-76081e7a88e6"
      },
      "execution_count": 498,
      "outputs": [
        {
          "output_type": "stream",
          "name": "stdout",
          "text": [
            "Function and Partial Derivatives:\n",
            "----------------------------------------\n",
            "Given:\n",
            "  x = 1\n",
            "  y = 3\n",
            "  z = 0.5\n",
            "----------------------------------------\n",
            "Function: f = (x*y + y**(sin(z)))*x*y\n",
            "          f = 14.080019381708262\n",
            "----------------------------------------\n",
            "Partial Derivatives:\n",
            "  df/dx = y*(2*x*y + y**(sin(z)))\n",
            "        = 23.08001938170826\n",
            "  df/dy = x*(2*x*y + sin(z)*y**(sin(z)) + y**(sin(z)))\n",
            "        = 8.505170136634511\n",
            "  df/dz = x*log(y)*cos(z)*y**(sin(z)+1)\n",
            "        = 4.897763459363575\n",
            "----------------------------------------\n"
          ]
        }
      ]
    },
    {
      "cell_type": "code",
      "source": [
        "compGrap.print_computation_graph_tree()"
      ],
      "metadata": {
        "colab": {
          "base_uri": "https://localhost:8080/"
        },
        "id": "ZCPrdvmK8fCw",
        "outputId": "65a372d0-5f2e-4790-c73c-8c39963a35ae"
      },
      "execution_count": 499,
      "outputs": [
        {
          "output_type": "stream",
          "name": "stdout",
          "text": [
            "\n",
            "Computation Graph Tree:\n",
            "\n",
            "🔗 var7: MULT\n",
            "   ├──🔗 var6: ADD\n",
            "   ├──   ├──🔗 var3: MULT\n",
            "   ├──   ├──   ├──🔗 var0: SCAL\n",
            "   ├──   ├──   └──🔗 var1: SCAL\n",
            "   ├──   └──🔗 var5: POW\n",
            "   ├──   └──   ├──🔗 var1: SCAL\n",
            "   ├──   └──   └──🔗 var4: SIN\n",
            "   ├──   └──   └──   └──🔗 var2: SCAL\n",
            "   └──🔗 var3: MULT\n",
            "   └──   ├──🔗 var0: SCAL\n",
            "   └──   └──🔗 var1: SCAL\n"
          ]
        }
      ]
    }
  ]
}